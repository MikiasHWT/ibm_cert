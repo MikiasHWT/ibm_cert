{
 "cells": [
  {
   "cell_type": "markdown",
   "metadata": {},
   "source": [
    "# Data Science Tools and Ecosystem"
   ]
  },
  {
   "cell_type": "markdown",
   "metadata": {},
   "source": [
    "This is a simple notebook to summarize data science tools and ecosystems. "
   ]
  },
  {
   "cell_type": "markdown",
   "metadata": {},
   "source": [
    "Some of the most popular languages used by Data Scientists are;\n",
    "1. Python\n",
    "2. R\n",
    "3. SQL*\n",
    "4. Java\n",
    "5. Julia\n",
    "6. Scala\n",
    "\n",
    "*Not programming language. "
   ]
  },
  {
   "cell_type": "markdown",
   "metadata": {},
   "source": [
    "Some of the commonly used libraries include:\n",
    "- Numpy\n",
    "- Pandas\n",
    "- Matplotlib\n",
    "- Seaborn\n",
    "- Sci-kit learn\n",
    "- Tensorflow\n",
    "- Keras\n",
    "- Plotly\n",
    "- tidyr\n",
    "- dplyr\n",
    "- stringr\n",
    "- ggplot2\n",
    "- tidyverse*\n",
    "\n",
    "*Collection of libraries "
   ]
  },
  {
   "cell_type": "markdown",
   "metadata": {},
   "source": [
    "| Data Science Tools |\n",
    "----------------------\n",
    "| Anaconda |\n",
    "| R Studio |\n",
    "| Jupyter |\n",
    "| MySQL |\n",
    "| IBM Watson |\n",
    "| Github |\n",
    "| Gitlab |"
   ]
  },
  {
   "cell_type": "markdown",
   "metadata": {},
   "source": [
    "### Below are a few examples evaluating arithmetic expression in Python"
   ]
  },
  {
   "cell_type": "code",
   "execution_count": 2,
   "metadata": {},
   "outputs": [
    {
     "data": {
      "text/plain": [
       "17"
      ]
     },
     "execution_count": 2,
     "metadata": {},
     "output_type": "execute_result"
    }
   ],
   "source": [
    "# This is a simple arithmetic expression to multiply then add integers\n",
    "(3 * 4) + 5"
   ]
  },
  {
   "cell_type": "code",
   "execution_count": 3,
   "metadata": {},
   "outputs": [
    {
     "name": "stdout",
     "output_type": "stream",
     "text": [
      "3.3333333333333335\n"
     ]
    }
   ],
   "source": [
    "# This will convert minutes into hours by diving by 60\n",
    "tmin = 200\n",
    "thr = tmin / 60\n",
    "print(thr)"
   ]
  },
  {
   "cell_type": "markdown",
   "metadata": {},
   "source": [
    "**Objectives:**\n",
    "* Popular languages\n",
    "* Popular libraries\n",
    "* Data Science Tools\n",
    "* Basic Coding\n",
    "* Jupyter Practice\n",
    "* Version Control"
   ]
  },
  {
   "cell_type": "markdown",
   "metadata": {},
   "source": [
    "## Author\n",
    "MikiasHWT"
   ]
  },
  {
   "cell_type": "markdown",
   "metadata": {},
   "source": []
  }
 ],
 "metadata": {
  "kernelspec": {
   "display_name": "NewEnvironment",
   "language": "python",
   "name": "newenvironment"
  },
  "language_info": {
   "codemirror_mode": {
    "name": "ipython",
    "version": 3
   },
   "file_extension": ".py",
   "mimetype": "text/x-python",
   "name": "python",
   "nbconvert_exporter": "python",
   "pygments_lexer": "ipython3",
   "version": "3.11.0"
  }
 },
 "nbformat": 4,
 "nbformat_minor": 2
}
